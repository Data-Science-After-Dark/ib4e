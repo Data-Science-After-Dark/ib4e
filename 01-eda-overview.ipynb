{
 "cells": [
  {
   "cell_type": "code",
   "execution_count": 1,
   "metadata": {},
   "outputs": [],
   "source": [
    "%matplotlib inline"
   ]
  },
  {
   "cell_type": "code",
   "execution_count": 2,
   "metadata": {},
   "outputs": [],
   "source": [
    "import matplotlib.pyplot as plt\n",
    "import pandas as pd\n",
    "import re"
   ]
  },
  {
   "cell_type": "markdown",
   "metadata": {},
   "source": [
    "# English Vocabulary Compliments of [dwyl](https://github.com/dwyl)\n",
    "https://github.com/dwyl/english-words.git"
   ]
  },
  {
   "cell_type": "code",
   "execution_count": 3,
   "metadata": {},
   "outputs": [],
   "source": [
    "def read_words_alpha():\n",
    "    lines = []\n",
    "    with open('./data/words/words_alpha.txt', 'r') as f:\n",
    "        for _, line in enumerate(f):\n",
    "            lines.append(line.strip())\n",
    "            \n",
    "    return lines"
   ]
  },
  {
   "cell_type": "markdown",
   "metadata": {},
   "source": [
    "# From a to zwitterionic"
   ]
  },
  {
   "cell_type": "code",
   "execution_count": 4,
   "metadata": {},
   "outputs": [
    {
     "data": {
      "text/plain": [
       "(370103,\n",
       " ['a',\n",
       "  'aa',\n",
       "  'aaa',\n",
       "  'aah',\n",
       "  'aahed',\n",
       "  'aahing',\n",
       "  'aahs',\n",
       "  'aal',\n",
       "  'aalii',\n",
       "  'aaliis'],\n",
       " ['zwanziger',\n",
       "  'zwieback',\n",
       "  'zwiebacks',\n",
       "  'zwieselite',\n",
       "  'zwinglian',\n",
       "  'zwinglianism',\n",
       "  'zwinglianist',\n",
       "  'zwitter',\n",
       "  'zwitterion',\n",
       "  'zwitterionic'])"
      ]
     },
     "execution_count": 4,
     "metadata": {},
     "output_type": "execute_result"
    }
   ],
   "source": [
    "words = read_words_alpha()\n",
    "\n",
    "# Print out: n_words, head(10), tail(10)\n",
    "len(words), words[:10], words[-10:]"
   ]
  },
  {
   "cell_type": "markdown",
   "metadata": {},
   "source": [
    "# Percent of words in vocabulary containg ie or ei"
   ]
  },
  {
   "cell_type": "code",
   "execution_count": 5,
   "metadata": {},
   "outputs": [
    {
     "data": {
      "text/plain": [
       "(17542, 0.047397616339235296)"
      ]
     },
     "execution_count": 5,
     "metadata": {},
     "output_type": "execute_result"
    }
   ],
   "source": [
    "n_words_of_interest = len([w for w in words if 'ie' in w or 'ei' in w])\n",
    "\n",
    "# Print the number of ie|ei words, % of ie|ei words\n",
    "n_words_of_interest, n_words_of_interest / len(words)"
   ]
  },
  {
   "cell_type": "markdown",
   "metadata": {},
   "source": [
    "# Summary\n",
    "\n",
    "Of **370k english words** only **4.7%** (17,542) contain ie|ei"
   ]
  }
 ],
 "metadata": {
  "kernelspec": {
   "display_name": "venv",
   "language": "python",
   "name": "venv"
  },
  "language_info": {
   "codemirror_mode": {
    "name": "ipython",
    "version": 3
   },
   "file_extension": ".py",
   "mimetype": "text/x-python",
   "name": "python",
   "nbconvert_exporter": "python",
   "pygments_lexer": "ipython3",
   "version": "3.5.2"
  }
 },
 "nbformat": 4,
 "nbformat_minor": 2
}
